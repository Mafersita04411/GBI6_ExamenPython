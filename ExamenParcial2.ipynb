{
 "cells": [
  {
   "cell_type": "markdown",
   "id": "de4be796-644b-4fa9-a9bb-3383932a2c1a",
   "metadata": {},
   "source": [
    "<img src=\"https://www.ikiam.edu.ec/img/logo-ikiam-grey.png\" width=300 height=240 />\n",
    "\n",
    "# EXAMEN PARCIAL PYTHON\n",
    "    \n",
    "\n",
    "## GBI6-2021II: BIOINFORMÁTICA\n",
    "\n",
    "**Minango Cango, María Fernanda** <--- CAMBIE POR LOS QUE CORRESPONDA A SUS DATOS\n",
    "\n",
    "**18-02-2021**"
   ]
  },
  {
   "cell_type": "markdown",
   "id": "b0c9ca3f-5b05-459c-9a44-a2e7f715b377",
   "metadata": {},
   "source": [
    "<font color='red'>NO AGREGUE NUEVAS CELDAS, UTILICE ÚNICAMENTE LAS QUE ESTÁN CREADAS</font>"
   ]
  },
  {
   "cell_type": "markdown",
   "id": "aaae5820-890f-43e3-abbe-135c69d40e52",
   "metadata": {},
   "source": [
    "### REQUERIMIENTOS PARA EL EXAMEN\n",
    "Para este examen se requiere dos documentos: \n",
    "\n",
    "1. Archivo ```miningscience.py``` donde tendrá dos funciones:\n",
    "\n",
    "2. Archivo ```2021II_GBI6_ExamenParcialPython``` donde se llamará las funciones y se obtendrá resultados."
   ]
  },
  {
   "cell_type": "markdown",
   "id": "8a3adf34-7859-48f9-a261-f923e1a48c5d",
   "metadata": {},
   "source": [
    "## Ejercicio 1 [2 puntos]\n",
    "Cree el archivo ```miningscience.py``` con las siguientes dos funciones:\n",
    "    \n",
    "i. ```download_pubmed```: para descargar la data de PubMed utilizando el **ENTREZ** de Biopython. El parámetro de entrada para la función es el ```keyword```. \n",
    "    \n",
    "ii. ```mining_pubs```: esta función debe utilizar el módulo **re** y utilizar el párametro ```tipo``` para realizar lo siguiente:\n",
    "        \n",
    "* Si el tipo es \"DP\" recupera el año de publicación del artículo. El retorno es un *dataframe* con el **PMID** y el **DP_year**.\n",
    "      \n",
    "* Si el tipo es \"AU\" recupera el número de autores por **PMID**. El retorno es un *dataframe* con el **PMID** y el **num_auth**. \n",
    "      \n",
    "* Si el tipo es \"AD\" recupera el conteo de autores por país. El retorno es un *dataframe* con el **country** y el **num_auth**. \n",
    "\n",
    "* *Puede utilizar un ```if``` dentro de la función.* \n",
    "\n",
    "* *Cree un docstring para cada función.* \n",
    "\n",
    "Luego de crear las funciones, cargue el módulo ```miningscience``` como ```msc``` e imprima docstring de cada función.\n"
   ]
  },
  {
   "cell_type": "code",
   "execution_count": 3,
   "id": "09a6cbf4-d2ae-40d1-8ad9-5c109b361f14",
   "metadata": {},
   "outputs": [
    {
     "name": "stdout",
     "output_type": "stream",
     "text": [
      "Help on function download_pubmed in module miningscience:\n",
      "\n",
      "download_pubmed(keyword)\n",
      "    El listado es extraido por la función y los artículos desde pubmed en la nube con ayuda de un keyword que ingresa el usuario entre comillas\n",
      "\n",
      "Help on function mining_pubs in module miningscience:\n",
      "\n",
      "mining_pubs(tipo, archivo)\n",
      "    La función que pide en la primera entrada tres tipos de opciones \"DP\", \"AU\" y \"AD\". Si coloca \"DP\" el resultado es  DP_year, si es \"AU\" recupera el número de autores (num_auth) por PMID, y si el tipo es \"AD\" el retorno es un dataframe con el pais y el n_auth. Al final se saca un segundo argumento correspondiente al keyword que fue usado para la descarga de archivos con la funcion de download pubmed\n",
      "\n"
     ]
    }
   ],
   "source": [
    "# Escriba aquí su código para el ejercicio 1\n",
    "import miningscience as msc \n",
    "\n",
    "help(msc.download_pubmed)\n",
    "help(msc.mining_pubs)"
   ]
  },
  {
   "cell_type": "markdown",
   "id": "bf8bf43f-f80c-43e9-a44a-e41a9b99e1d7",
   "metadata": {},
   "source": [
    "## Ejercicio 2 [1 punto]\n",
    "\n",
    "\n",
    "Utilice la función ```download_pubmed``` para descargar la data con el keyword ```Ecuador genomics``` e imprima lo siguiente: \n",
    "\n",
    "```python\n",
    "'El número de artículos es: xx' # xx corresponde al número de artículos recuperados\n",
    "\n",
    "'El PMID del primer artículo es: xxxxxxxx' # xxxxxxxx corresponde al ID del artículo en PUDMED\n",
    "\n",
    "```"
   ]
  },
  {
   "cell_type": "code",
   "execution_count": 4,
   "id": "22c20436-fc70-4d31-8aba-a3bffb85aaef",
   "metadata": {},
   "outputs": [
    {
     "name": "stdout",
     "output_type": "stream",
     "text": [
      "El numero de articulos es: 193\n",
      "El PMID del primer articulo es: PMID- 35121084\n",
      "\n"
     ]
    }
   ],
   "source": [
    "# Escriba aquí su código para el ejercicio 2\n",
    "#Se importa la librería de expresiones regulares\n",
    "import re\n",
    "#Se realiza la busqueda en pubmed de Ecuador Genomics\n",
    "busqueda2 = msc.download_pubmed(\"Ecuador Genomics\")\n",
    "\n",
    "busqueda3 = re.findall(r'[PMID]{4}\\-.*\\d\\n',busqueda2)\n",
    "#Se muestra la longitud de la busqueda N3\n",
    "print(\"El numero de articulos es:\", len(busqueda3)) \n",
    "#Se muestra el PMID del primer artículo\n",
    "print(\"El PMID del primer articulo es:\", busqueda3[0])"
   ]
  },
  {
   "cell_type": "markdown",
   "id": "3f8061ba-9962-4288-ac0c-cbc3100d2ac7",
   "metadata": {},
   "source": [
    "## Ejercicio 3 [1 punto]\n",
    "\n",
    "Utilice la función ```mining_pubs``` para crear los siguientes dataframes: \n",
    "\n",
    "* pub_year\n",
    "\n",
    "* pub_authors\n",
    "\n",
    "* coutries\n",
    "\n",
    "Muestre los dos primeros y los dos últimos registros de cada dataframe. "
   ]
  },
  {
   "cell_type": "code",
   "execution_count": 5,
   "id": "8dd16e11-432f-4b4f-838c-ef22a3909ec9",
   "metadata": {},
   "outputs": [
    {
     "name": "stdout",
     "output_type": "stream",
     "text": [
      "        PMID  Numero de autores\n",
      "1   35120121                 14\n",
      "2   35113400                  2\n",
      "3   35104837                 54\n",
      "4   35064679                  7\n",
      "5   35047841                  9\n",
      "6   35043846                  6\n",
      "7   35018222                 10\n",
      "8   34962985                  7\n",
      "9   34960145                  4\n",
      "10  34938321                  8\n",
      "        PMID Año de publicación\n",
      "1   35121084               2022\n",
      "2   35120121               2021\n",
      "3   35113400               2022\n",
      "4   35104837               2022\n",
      "5   35064679               2021\n",
      "6   35047841               2022\n",
      "7   35043846               2022\n",
      "8   35018222               2022\n",
      "9   34962985               2021\n",
      "10  34960145               2021\n",
      "           pais  numero de autores\n",
      "1        Canada                 83\n",
      "2       Ecuador                314\n",
      "3          Peru                 28\n",
      "4       Bolivia                  5\n",
      "5           USA                407\n",
      "6            UK                198\n",
      "7         Japan                 39\n",
      "8         India                 45\n",
      "9       Germany                141\n",
      "10  Switzerland                 23\n",
      "\n",
      "Ahora primeros dos y ultimos dos registros\n",
      "\n"
     ]
    }
   ],
   "source": [
    "# Escriba aquí su código para el ejercicio 3\n",
    "import miningscience as msc\n",
    "pub_year = msc.mining_pubs(\"DP\",\"Ecuador genomics\")\n",
    "pub_authors = msc.mining_pubs(\"AU\",\"Ecuador genomics\")\n",
    "countries = msc.mining_pubs(\"AD\",\"Ecuador genomics\")\n",
    "\n",
    "#Se muestra el DataFramaes creado de autores, año y países:\n",
    "print(pub_authors[1:11])\n",
    "print(pub_year[1:11])\n",
    "print(countries[1:11])\n",
    "\n",
    "#Se imprime los primeros 2 registros y los últimos 2 registros \n",
    "print()\n",
    "print(\"Ahora primeros dos y ultimos dos registros\")\n",
    "print()\n",
    "\n",
    "# Para países\n",
    "print(countries[0:2])\n",
    "print()\n",
    "print(countries[67:69])\n",
    "print()\n",
    "\n",
    "# Para autores\n",
    "\n",
    "print(pub_authors[0:2])\n",
    "print()\n",
    "print(pub_authors[191:193])\n",
    "print()\n",
    "\n",
    "# Para año\n",
    "\n",
    "print(pub_year[0:2])\n",
    "print()\n",
    "print(pub_year[67:69])"
   ]
  },
  {
   "cell_type": "code",
   "execution_count": null,
   "id": "16f7ab75-cbb2-4bf3-bb2b-e3baaea704e4",
   "metadata": {},
   "outputs": [],
   "source": []
  }
 ],
 "metadata": {
  "kernelspec": {
   "display_name": "Python 3",
   "language": "python",
   "name": "python3"
  },
  "language_info": {
   "codemirror_mode": {
    "name": "ipython",
    "version": 3
   },
   "file_extension": ".py",
   "mimetype": "text/x-python",
   "name": "python",
   "nbconvert_exporter": "python",
   "pygments_lexer": "ipython3",
   "version": "3.8.8"
  }
 },
 "nbformat": 4,
 "nbformat_minor": 5
}
